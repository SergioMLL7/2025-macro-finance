{
 "cells": [
  {
   "cell_type": "markdown",
   "metadata": {},
   "source": [
    "# 5. Functions and Class\n",
    "In this class we will cover everything related to creating functions and clases in Python."
   ]
  },
  {
   "cell_type": "markdown",
   "metadata": {},
   "source": [
    "##  Functions"
   ]
  },
  {
   "cell_type": "markdown",
   "metadata": {},
   "source": [
    "### The Importance of Python Functions"
   ]
  },
  {
   "cell_type": "markdown",
   "metadata": {},
   "source": [
    "- Abstraction and Reusability: Replicate the code you will use over and over again.\n",
    "- Modularity: Functions allow complex processes to be broken up into smaller steps.\n",
    "- Namespace Separation: It allows you to use variables  and used within a Python function even if they have the same name as variables defined in other functions or in the main program. "
   ]
  },
  {
   "cell_type": "markdown",
   "metadata": {},
   "source": [
    "### Basic structure of a function\n",
    "A function requires **parameters**, **code** to execute and the **return** function. The **def** keyword introduces a new Python function definition.\n",
    "\n",
    "This is the basic structure:\n",
    "<br><br>\n",
    "\n",
    "<font size=\"4\">\n",
    "def name_function<font color='green'>( parameter1, parameter2 )</font>: <br> <br>\n",
    "&nbsp;&nbsp;&nbsp;&nbsp;'''Comentarios. README'''<br><br>\n",
    "&nbsp;&nbsp;&nbsp;&nbsp;Code<br><br>\n",
    "&nbsp;&nbsp;&nbsp;&nbsp;<font color='green'>return</font> final_output<br>\n",
    "</font>"
   ]
  },
  {
   "cell_type": "code",
   "execution_count": 2,
   "metadata": {},
   "outputs": [],
   "source": [
    "import numpy as np"
   ]
  },
  {
   "cell_type": "code",
   "execution_count": 3,
   "metadata": {},
   "outputs": [],
   "source": [
    "def multiplication(x, y, z):\n",
    "    '''Esta funcion sirve para multiplicar tres variables'''\n",
    "    result = x*y*z\n",
    "    return result"
   ]
  },
  {
   "cell_type": "code",
   "execution_count": 5,
   "metadata": {},
   "outputs": [
    {
     "data": {
      "text/plain": [
       "96"
      ]
     },
     "execution_count": 5,
     "metadata": {},
     "output_type": "execute_result"
    }
   ],
   "source": [
    "multiplication(8, 6, 2)"
   ]
  },
  {
   "cell_type": "code",
   "execution_count": 6,
   "metadata": {},
   "outputs": [],
   "source": [
    "def info_students(x, y, z):\n",
    "    '''Esta función brinda información sobre alumnos'''\n",
    "  \n",
    "    if z == 1:\n",
    "        name = f\"Her name is {x}\"\n",
    "        lastname = \"Her lastname is {}\".format(y)\n",
    "        \n",
    "    else:\n",
    "        name = \"His name is {}\".format(x)\n",
    "        lastname = f\"His lastname is {y}\"\n",
    "    \n",
    "    return print(name, \",\",  lastname)"
   ]
  },
  {
   "cell_type": "code",
   "execution_count": 7,
   "metadata": {},
   "outputs": [
    {
     "name": "stdout",
     "output_type": "stream",
     "text": [
      "His name is Guillermo , His lastname is Coronado\n"
     ]
    }
   ],
   "source": [
    "info_students(\"Guillermo\", \"Coronado\", False)"
   ]
  },
  {
   "cell_type": "code",
   "execution_count": 9,
   "metadata": {},
   "outputs": [
    {
     "data": {
      "text/plain": [
       "nan"
      ]
     },
     "execution_count": 9,
     "metadata": {},
     "output_type": "execute_result"
    }
   ],
   "source": [
    "np.nan"
   ]
  },
  {
   "cell_type": "code",
   "execution_count": 17,
   "metadata": {},
   "outputs": [],
   "source": [
    "def calculator(x, y):\n",
    "    \n",
    "    if x < y:\n",
    "        print(\"division out range\")\n",
    "        result = np.nan # Not A Number\n",
    "    else: \n",
    "        result  = x/y\n",
    "    \n",
    "    return result"
   ]
  },
  {
   "cell_type": "code",
   "execution_count": 13,
   "metadata": {},
   "outputs": [
    {
     "name": "stdout",
     "output_type": "stream",
     "text": [
      "division out range\n"
     ]
    },
    {
     "data": {
      "text/plain": [
       "nan"
      ]
     },
     "execution_count": 13,
     "metadata": {},
     "output_type": "execute_result"
    }
   ],
   "source": [
    "calculator(1, 3)"
   ]
  },
  {
   "cell_type": "code",
   "execution_count": 14,
   "metadata": {},
   "outputs": [],
   "source": [
    "def calculator( x, y, z ):\n",
    "    \n",
    "    result = x * y * z\n",
    "    \n",
    "    return result"
   ]
  },
  {
   "cell_type": "code",
   "execution_count": 15,
   "metadata": {},
   "outputs": [
    {
     "data": {
      "text/plain": [
       "60040"
      ]
     },
     "execution_count": 15,
     "metadata": {},
     "output_type": "execute_result"
    }
   ],
   "source": [
    "calculator( 158, 38, 10 )"
   ]
  },
  {
   "cell_type": "code",
   "execution_count": 16,
   "metadata": {},
   "outputs": [
    {
     "data": {
      "text/plain": [
       "0"
      ]
     },
     "execution_count": 16,
     "metadata": {},
     "output_type": "execute_result"
    }
   ],
   "source": [
    "calculator( 4, 7, 0)"
   ]
  },
  {
   "cell_type": "markdown",
   "metadata": {},
   "source": [
    "### Function without `return` function \n",
    "When we define a function without the `return` function, the generated function does not return any output."
   ]
  },
  {
   "cell_type": "code",
   "execution_count": 18,
   "metadata": {},
   "outputs": [],
   "source": [
    "x2 = 5\n",
    "y2 = 10"
   ]
  },
  {
   "cell_type": "code",
   "execution_count": 24,
   "metadata": {},
   "outputs": [],
   "source": [
    "def calculator_square( x, y ):\n",
    "    \n",
    "    x2 = x * x\n",
    "    y2 = y * y\n",
    "    \n",
    "    result = x2 * y2   \n",
    "    return result"
   ]
  },
  {
   "cell_type": "code",
   "execution_count": 22,
   "metadata": {},
   "outputs": [],
   "source": [
    "calculator_square( x2, y2 )"
   ]
  },
  {
   "cell_type": "code",
   "execution_count": 26,
   "metadata": {},
   "outputs": [],
   "source": [
    "def info_students(x, y, z):\n",
    "    \n",
    "    if z == 1:\n",
    "        name = \"Her name is {}\".format(x)\n",
    "        lastname = \"Her lastname is {}\".format(y)\n",
    "        \n",
    "    else:\n",
    "        name = \"His name is {}\".format(x)\n",
    "        lastname = \"His lastname is {}\".format(y)\n",
    "    \n",
    "    # return print(name,\",\",  lastname)\n",
    "    # return lastname"
   ]
  },
  {
   "cell_type": "code",
   "execution_count": 27,
   "metadata": {},
   "outputs": [],
   "source": [
    "info_students(\"Alba\", \"Coronado\", True)"
   ]
  },
  {
   "cell_type": "code",
   "execution_count": 28,
   "metadata": {},
   "outputs": [],
   "source": [
    "def info_students(x, y, z, s, e):\n",
    "    \n",
    "    if z == 1:\n",
    "        name = f\"Her name is {x}\"\n",
    "        lastname = \"Her lastname is {}\".format(y)\n",
    "        school = \"Her school is {}\".format(s)\n",
    "        \n",
    "        if e >= 18: \n",
    "            age = \"She is an adult\"\n",
    "    \n",
    "        else:\n",
    "            age = \"She is a kid\"\n",
    "        \n",
    "    else:\n",
    "        name = \"His name is {}\".format(x)\n",
    "        lastname = \"His lastname is {}\".format(y)\n",
    "        school = \"His school is {}\".format(s)\n",
    "        \n",
    "        if e >= 18: \n",
    "            age = \"He is an adult\"\n",
    "    \n",
    "        else:\n",
    "            age = \"He is a kid\"\n",
    "\n",
    "    #return print(name,\",\",  lastname)\n",
    "    return name, lastname, school, age"
   ]
  },
  {
   "cell_type": "code",
   "execution_count": 29,
   "metadata": {},
   "outputs": [
    {
     "data": {
      "text/plain": [
       "('Her name is Gabriela',\n",
       " 'Her lastname is Narvaez',\n",
       " 'Her school is CIFO',\n",
       " 'She is a kid')"
      ]
     },
     "execution_count": 29,
     "metadata": {},
     "output_type": "execute_result"
    }
   ],
   "source": [
    "info_students(\"Gabriela\", \"Narvaez\", True , \"CIFO\", 17)"
   ]
  },
  {
   "cell_type": "markdown",
   "metadata": {},
   "source": [
    "### Multiple objects for return\n",
    "The output of a function can have several objects. These objects are stored in a tuple by default."
   ]
  },
  {
   "cell_type": "code",
   "execution_count": 30,
   "metadata": {},
   "outputs": [],
   "source": [
    "def calculator_square( x, y ):\n",
    "    \n",
    "    x2 = x * x\n",
    "    y2 = y * y\n",
    "    \n",
    "    result = x2 + y2   \n",
    "    \n",
    "    return result, x2, y2"
   ]
  },
  {
   "cell_type": "code",
   "execution_count": 31,
   "metadata": {},
   "outputs": [
    {
     "data": {
      "text/plain": [
       "(25, 9, 16)"
      ]
     },
     "execution_count": 31,
     "metadata": {},
     "output_type": "execute_result"
    }
   ],
   "source": [
    "calculator_square(3, 4)"
   ]
  },
  {
   "cell_type": "markdown",
   "metadata": {},
   "source": [
    "We can name the outputs in one line."
   ]
  },
  {
   "cell_type": "code",
   "execution_count": 32,
   "metadata": {},
   "outputs": [],
   "source": [
    "resultado, X, Y = calculator_square( 8, 9 )"
   ]
  },
  {
   "cell_type": "code",
   "execution_count": 35,
   "metadata": {},
   "outputs": [
    {
     "data": {
      "text/plain": [
       "145"
      ]
     },
     "execution_count": 35,
     "metadata": {},
     "output_type": "execute_result"
    }
   ],
   "source": [
    "resultado"
   ]
  },
  {
   "cell_type": "markdown",
   "metadata": {},
   "source": [
    "### If condition with return"
   ]
  },
  {
   "cell_type": "code",
   "execution_count": 37,
   "metadata": {},
   "outputs": [],
   "source": [
    "def calculator_square( x, y ):\n",
    "    \n",
    "    x2 = x * x\n",
    "    y2 = y * y\n",
    "    \n",
    "    result = x2 * y2   \n",
    "    \n",
    "    if ( 200 >= result ):\n",
    "        return result, x2, y2\n",
    "    \n",
    "    elif ( 500 >= result > 200 ):\n",
    "        print( \"Large number. Get only the result variable\")\n",
    "        return result\n",
    "    \n",
    "    else:\n",
    "        print( \"Too large number. Do not return variables!\")"
   ]
  },
  {
   "cell_type": "code",
   "execution_count": 40,
   "metadata": {},
   "outputs": [
    {
     "name": "stdout",
     "output_type": "stream",
     "text": [
      "Large number. Get only the result variable\n"
     ]
    },
    {
     "data": {
      "text/plain": [
       "400"
      ]
     },
     "execution_count": 40,
     "metadata": {},
     "output_type": "execute_result"
    }
   ],
   "source": [
    "calculator_square( 2, 10 )"
   ]
  },
  {
   "cell_type": "markdown",
   "metadata": {},
   "source": [
    "### 5.1.6. Default values to parameters\n",
    "We can define default values to parameters."
   ]
  },
  {
   "cell_type": "code",
   "execution_count": 41,
   "metadata": {},
   "outputs": [],
   "source": [
    "def calculator_base_20(x,y=20):\n",
    "    result = x*y\n",
    "    return result"
   ]
  },
  {
   "cell_type": "code",
   "execution_count": 44,
   "metadata": {},
   "outputs": [
    {
     "data": {
      "text/plain": [
       "10"
      ]
     },
     "execution_count": 44,
     "metadata": {},
     "output_type": "execute_result"
    }
   ],
   "source": [
    "calculator_base_20(x=2,y=5)"
   ]
  },
  {
   "cell_type": "code",
   "execution_count": 45,
   "metadata": {},
   "outputs": [],
   "source": [
    "def info_students(x, y, s, e, sex=True):\n",
    "    \n",
    "    if sex == 1:\n",
    "        name = \"Her name is {}\".format(x)\n",
    "        lastname = \"Her lastname is {}\".format(y)\n",
    "        school = \"Her school is {}\".format(s)\n",
    "        \n",
    "        if e >= 18: \n",
    "            age = \"She is an adult\"\n",
    "    \n",
    "        else:\n",
    "            age = \"She is a kid\"\n",
    "        \n",
    "    else:\n",
    "        name = \"His name is {}\".format(x)\n",
    "        lastname = \"His lastname is {}\".format(y)\n",
    "        school = \"His school is {}\".format(s)\n",
    "        \n",
    "        if e >= 18: \n",
    "            age = \"He is an adult\"\n",
    "    \n",
    "        else:\n",
    "            age = \"He is a kid\"\n",
    "\n",
    "    #return print(name,\",\",  lastname)\n",
    "    return name, lastname, school, age"
   ]
  },
  {
   "cell_type": "code",
   "execution_count": 47,
   "metadata": {},
   "outputs": [
    {
     "data": {
      "text/plain": [
       "('His name is Cristhian',\n",
       " 'His lastname is Alfaro',\n",
       " 'His school is CIFO',\n",
       " 'He is a kid')"
      ]
     },
     "execution_count": 47,
     "metadata": {},
     "output_type": "execute_result"
    }
   ],
   "source": [
    "info_students(\"Cristhian\", \"Alfaro\",\"CIFO\", 17, False)"
   ]
  },
  {
   "cell_type": "markdown",
   "metadata": {},
   "source": [
    "### Specify the type of a parameter and the type of the return type of a function \n",
    "\n",
    "It is important to note that Python won't raise a TypeError if you pass a float into x, the reason for this is one of the main points in Python's design philosophy: \"We're all consenting adults here\", which means you are expected to be aware of what you can pass to a function and what you can't. If you really want to write code that throws TypeErrors you can use the isinstance function to check that the passed argument is of the proper type or a subclass of it like this:"
   ]
  },
  {
   "cell_type": "code",
   "execution_count": 48,
   "metadata": {},
   "outputs": [],
   "source": [
    "def calculator_base_30( x:int, y:float ) -> float:\n",
    "    result = x**y\n",
    "    return result"
   ]
  },
  {
   "cell_type": "code",
   "execution_count": 50,
   "metadata": {},
   "outputs": [
    {
     "data": {
      "text/plain": [
       "int"
      ]
     },
     "execution_count": 50,
     "metadata": {},
     "output_type": "execute_result"
    }
   ],
   "source": [
    "type(calculator_base_30( x=5, y=4 ))"
   ]
  },
  {
   "cell_type": "code",
   "execution_count": 51,
   "metadata": {},
   "outputs": [],
   "source": [
    "def calculator_base_5( x : int, y : float , z:list, ) -> float:\n",
    "    \n",
    "    if not isinstance( x , int ):\n",
    "        raise TypeError( \"X variable is not int type.\")\n",
    "        \n",
    "    if not isinstance( y, float ):\n",
    "        raise TypeError( \"Y variable is not float type.\")\n",
    "    \n",
    "    if not isinstance( z, list ):\n",
    "        raise TypeError( \"Z variable is not list type.\")\n",
    "\n",
    "    result = x * y\n",
    "    \n",
    "    \n",
    "    return result"
   ]
  },
  {
   "cell_type": "code",
   "execution_count": 52,
   "metadata": {},
   "outputs": [
    {
     "data": {
      "text/plain": [
       "17.4"
      ]
     },
     "execution_count": 52,
     "metadata": {},
     "output_type": "execute_result"
    }
   ],
   "source": [
    "calculator_base_5( 3, 5.8, [1,2])"
   ]
  },
  {
   "cell_type": "markdown",
   "metadata": {},
   "source": [
    "### Local variables VS Global variables \n",
    "\n",
    "|Variables|Definition|\n",
    "|---|---|\n",
    "|Global Variables| Variables declared outside a function.|\n",
    "|Local Variables | Variables declared inside a function.|\n",
    "\n",
    "The parameters and the variables created inside a function are local variables. They take values when the function is executed; however, they do not exist outside the function since they belong to a different namespace. A namespace is a system that has a unique name for every object in Python. When a Python function is called, a new namespace is created for that function, one that is distinct from all other namespaces that already exist. That is the reason we can use various functions with parameters and variables with the same name. Additionally, it explains why the variables generated inside a function do not exist outside the defined function namespace."
   ]
  },
  {
   "cell_type": "markdown",
   "metadata": {},
   "source": [
    "#### Example"
   ]
  },
  {
   "cell_type": "code",
   "execution_count": 54,
   "metadata": {},
   "outputs": [],
   "source": [
    "def lower_case( string1  ):\n",
    "    \n",
    "    str_result = string1.lower()\n",
    "    \n",
    "    return str_result"
   ]
  },
  {
   "cell_type": "code",
   "execution_count": 55,
   "metadata": {},
   "outputs": [
    {
     "data": {
      "text/plain": [
       "'adriana'"
      ]
     },
     "execution_count": 55,
     "metadata": {},
     "output_type": "execute_result"
    }
   ],
   "source": [
    "lower_case( \"ADRIANA\")"
   ]
  },
  {
   "cell_type": "markdown",
   "metadata": {},
   "source": [
    "Now, we try to call the variable `str_result`."
   ]
  },
  {
   "cell_type": "code",
   "execution_count": 56,
   "metadata": {},
   "outputs": [
    {
     "ename": "NameError",
     "evalue": "name 'str_result' is not defined",
     "output_type": "error",
     "traceback": [
      "\u001b[0;31m---------------------------------------------------------------------------\u001b[0m",
      "\u001b[0;31mNameError\u001b[0m                                 Traceback (most recent call last)",
      "Cell \u001b[0;32mIn[56], line 1\u001b[0m\n\u001b[0;32m----> 1\u001b[0m \u001b[43mstr_result\u001b[49m\n",
      "\u001b[0;31mNameError\u001b[0m: name 'str_result' is not defined"
     ]
    }
   ],
   "source": [
    "str_result"
   ]
  },
  {
   "cell_type": "markdown",
   "metadata": {},
   "source": [
    "We can see that `str_result` is not defined. It does not exist in the main space. It was defined in the namespace of **lower_case**. In concluion, `str_result` is a local variable. <br>\n",
    "`result2` is a global variable."
   ]
  },
  {
   "cell_type": "markdown",
   "metadata": {},
   "source": [
    "### args vs kwargs"
   ]
  },
  {
   "cell_type": "code",
   "execution_count": 57,
   "metadata": {},
   "outputs": [
    {
     "name": "stdout",
     "output_type": "stream",
     "text": [
      "Args (tupla):\n",
      "  Argumento 1: 1\n",
      "  Argumento 2: 2\n",
      "  Argumento 3: 3\n",
      "  Argumento 4: texto\n",
      "\n",
      "Kwargs (diccionario):\n",
      "  nombre: Juan\n",
      "  edad: 30\n",
      "  ciudad: Lima\n"
     ]
    }
   ],
   "source": [
    "def ejemplo_args_kwargs(*args, **kwargs):\n",
    "    print(\"Args (tupla):\")\n",
    "    for i, arg in enumerate(args, start=1):\n",
    "        print(f\"  Argumento {i}: {arg}\")\n",
    "    \n",
    "    print(\"\\nKwargs (diccionario):\")\n",
    "    for key, value in kwargs.items():\n",
    "        print(f\"  {key}: {value}\")\n",
    "\n",
    "# Llamada a la función con args y kwargs\n",
    "ejemplo_args_kwargs(1, 2, 3, \"texto\", nombre=\"Juan\", edad=30, ciudad=\"Lima\")\n"
   ]
  },
  {
   "cell_type": "markdown",
   "metadata": {},
   "source": [
    "1. **`*args`:**\n",
    "   - Recoge todos los argumentos posicionales que se pasan a la función como una tupla.\n",
    "   - En el ejemplo, los valores `1, 2, 3, \"texto\"` se recogen en la tupla `args`.\n",
    "\n",
    "2. **`**kwargs`:**\n",
    "   - Recoge todos los argumentos con nombre (clave-valor) como un diccionario.\n",
    "   - En el ejemplo, los pares `nombre=\"Juan\", edad=30, ciudad=\"Lima\"` se recogen en el diccionario `kwargs`.\n"
   ]
  },
  {
   "cell_type": "markdown",
   "metadata": {},
   "source": [
    "## Funciones Lambda en Python\n",
    "\n",
    "- Las funciones lambda, también conocidas como **funciones anónimas**, son funciones sin nombre que <u>se definen en una sola línea</u> utilizando la palabra clave <font color='blue'>``lambda``</font>.\n",
    "\n",
    "- Son útiles cuando necesitamos crear funciones pequeñas y concisas sin la necesidad de definirlas formalmente.\n",
    "\n",
    "La sintaxis de una función lambda es la siguiente:\n",
    "\n",
    "~~~python\n",
    "lambda argumentos: expresión\n",
    "~~~\n",
    "\n",
    "* <font color='blue'>``argumentos``</font>: Los argumentos de la función lambda, separados por comas si hay más de uno.\n",
    "* <font color='blue'>``expresión``</font>: Una única expresión que se evalúa y se devuelve como resultado de la función.\n",
    "\n",
    "### Ejemplo:\n",
    "\n",
    "~~~python\n",
    "cuadrado = lambda x: x ** 2\n",
    "resultado = cuadrado(5)\n",
    "print(resultado)  # Salida: 25\n",
    "~~~\n",
    "\n",
    "##Aplicaciones comunes\n",
    "- Las funciones lambda se utilizan comúnmente en combinación con funciones de orden superior, como <font color='blue'>``map()``</font>, <font color='blue'>``filter()``</font> y <font color='blue'>``reduce()``</font>, para realizar operaciones de manera concisa y funcional.\n",
    "\n",
    "### Ejemplo con map():\n",
    "\n",
    "~~~python\n",
    "numeros = [1, 2, 3, 4, 5]\n",
    "cuadrados = list(map(lambda x: x ** 2, numeros))\n",
    "print(cuadrados)  # Salida: [1, 4, 9, 16, 25]\n",
    "~~~\n",
    "\n",
    "### Ejemplo con filter():\n",
    "\n",
    "~~~python\n",
    "numeros = [1, 2, 3, 4, 5]\n",
    "pares = list(filter(lambda x: x % 2 == 0, numeros))\n",
    "print(pares)  # Salida: [2, 4]\n",
    "~~~\n"
   ]
  },
  {
   "cell_type": "code",
   "execution_count": 63,
   "metadata": {},
   "outputs": [
    {
     "name": "stdout",
     "output_type": "stream",
     "text": [
      "Temperaturas en Celsius: [0, 20, 30, 40]\n",
      "Temperaturas en Fahrenheit: [32.0, 68.0, 86.0, 104.0]\n"
     ]
    }
   ],
   "source": [
    "# Lista de temperaturas en grados Celsius\n",
    "temperaturas_celsius = [0, 20, 30, 40]\n",
    "\n",
    "# Convertir a Fahrenheit usando una función lambda con map\n",
    "temperaturas_fahrenheit = list(map(lambda c: c * 9/5 + 32, temperaturas_celsius))\n",
    "\n",
    "print(\"Temperaturas en Celsius:\", temperaturas_celsius)\n",
    "print(\"Temperaturas en Fahrenheit:\", temperaturas_fahrenheit)\n"
   ]
  },
  {
   "cell_type": "code",
   "execution_count": 65,
   "metadata": {},
   "outputs": [
    {
     "data": {
      "text/plain": [
       "[('Ana', 22), ('Juan', 25), ('Luis', 30), ('María', 28)]"
      ]
     },
     "execution_count": 65,
     "metadata": {},
     "output_type": "execute_result"
    }
   ],
   "source": [
    "# Lista de tuplas: (nombre, edad)\n",
    "personas = [(\"Juan\", 25), (\"Ana\", 22), (\"Luis\", 30), (\"María\", 28)]\n",
    "\n",
    "# Ordenar la lista por edad usando una función lambda\n",
    "personas_ordenadas = sorted(personas, key=lambda persona: persona[0])\n",
    "\n",
    "personas_ordenadas\n"
   ]
  },
  {
   "cell_type": "code",
   "execution_count": 66,
   "metadata": {},
   "outputs": [
    {
     "name": "stdout",
     "output_type": "stream",
     "text": [
      "Personas ordenadas por edad:\n",
      "Ana: 22 años\n",
      "Juan: 25 años\n",
      "Luis: 30 años\n",
      "María: 28 años\n"
     ]
    }
   ],
   "source": [
    "print(\"Personas ordenadas por edad:\")\n",
    "\n",
    "for nombre, edad in personas_ordenadas:\n",
    "    print(f\"{nombre}: {edad} años\")"
   ]
  },
  {
   "cell_type": "markdown",
   "metadata": {},
   "source": [
    "## Class\n",
    "\n",
    "A class is a user-defined blueprint or prototype from which objects are created. Classes provide a means of bundling data and functionality together. Creating a new class creates a new type of object, allowing new instances of that type to be made."
   ]
  },
  {
   "cell_type": "markdown",
   "metadata": {},
   "source": [
    "### The Importance of Python Classes\n",
    "\n",
    "Classes are a way to organize your code into generic, reusable peices. At their best they are generic blueprints for things that will be used over and over again with little modification. The original concept was inspired by independent biological systems or organism unique from other organisms by the set or collection of features (attributes) and abilities (methods).\n",
    "\n",
    "Functions are great to use when data is central to the work being done. Classes are great when you need to represent a collection of attributes and methods that will be used over and over again in other places.\n",
    "\n",
    "Generally if you find your self writing functions inside of functions you should consider writing a class instead. If you only have one function in a class then stick with just writing a function.\n",
    "\n",
    "\n",
    "\n",
    "- Classes provide an easy way of keeping the data members and methods together in one place which helps in keeping the program more organized.\n",
    "- Using classes also provides another functionality of this object-oriented programming paradigm, that is, inheritance.\n",
    "- Classes also help in overriding any standard operator.\n",
    "- Using classes provides the ability to reuse the code which makes the program more efficient.\n",
    "- Grouping related functions and keeping them in one place (inside a class) provides a clean structure to the code which increases the readability of the program."
   ]
  },
  {
   "cell_type": "markdown",
   "metadata": {},
   "source": [
    "###  Defining a class\n",
    "it is considered to be a good practice to include a brief description about the class to increase the readability and understandability of the code."
   ]
  },
  {
   "cell_type": "markdown",
   "metadata": {},
   "source": [
    "<font size=\"4\">\n",
    "<font color='green'>class</font> class_name:<br> <br>\n",
    "&nbsp;&nbsp;&nbsp;&nbsp;    \"\"\"Description\"\"\" <br><br>\n",
    "&nbsp;&nbsp;&nbsp;&nbsp;<font color='red'>def __init__</font><font color  = 'blue'>( <font color='red'>self</font>, parameter1, parameter2 )</font>:<br><br>\n",
    "</font>"
   ]
  },
  {
   "cell_type": "markdown",
   "metadata": {},
   "source": [
    "### Attributes\n",
    "A value associated with an object which is referenced by name using dotted expressions. For example, `np.size`."
   ]
  },
  {
   "cell_type": "code",
   "execution_count": 67,
   "metadata": {},
   "outputs": [
    {
     "data": {
      "text/plain": [
       "array([ 8, 10, 12, 14, 16, 18, 20, 22, 24])"
      ]
     },
     "execution_count": 67,
     "metadata": {},
     "output_type": "execute_result"
    }
   ],
   "source": [
    "import numpy as np \n",
    "\n",
    "A = np.arange( 8, 25 , 2)\n",
    "A"
   ]
  },
  {
   "cell_type": "code",
   "execution_count": 70,
   "metadata": {},
   "outputs": [
    {
     "data": {
      "text/plain": [
       "24"
      ]
     },
     "execution_count": 70,
     "metadata": {},
     "output_type": "execute_result"
    }
   ],
   "source": [
    "A.max()"
   ]
  },
  {
   "cell_type": "code",
   "execution_count": 71,
   "metadata": {},
   "outputs": [
    {
     "data": {
      "text/plain": [
       "(9,)"
      ]
     },
     "execution_count": 71,
     "metadata": {},
     "output_type": "execute_result"
    }
   ],
   "source": [
    "A.shape"
   ]
  },
  {
   "cell_type": "code",
   "execution_count": 72,
   "metadata": {},
   "outputs": [
    {
     "data": {
      "text/plain": [
       "dtype('int64')"
      ]
     },
     "execution_count": 72,
     "metadata": {},
     "output_type": "execute_result"
    }
   ],
   "source": [
    "A.dtype"
   ]
  },
  {
   "cell_type": "markdown",
   "metadata": {},
   "source": [
    "### Method\n",
    "A function which is defined inside a class body. If called as an attribute of an instance of that class, the method will get the instance object as its first argument (which is usually called self). See function and nested scope."
   ]
  },
  {
   "cell_type": "code",
   "execution_count": 73,
   "metadata": {},
   "outputs": [
    {
     "data": {
      "text/plain": [
       "numpy.ndarray"
      ]
     },
     "execution_count": 73,
     "metadata": {},
     "output_type": "execute_result"
    }
   ],
   "source": [
    "A = np.arange( 8, 25 )\n",
    "type(A)"
   ]
  },
  {
   "cell_type": "code",
   "execution_count": 74,
   "metadata": {},
   "outputs": [
    {
     "data": {
      "text/plain": [
       "array([ 8,  9, 10, 11, 12, 13, 14, 15, 16, 17, 18, 19, 20, 21, 22, 23, 24])"
      ]
     },
     "execution_count": 74,
     "metadata": {},
     "output_type": "execute_result"
    }
   ],
   "source": [
    "A"
   ]
  },
  {
   "cell_type": "code",
   "execution_count": 75,
   "metadata": {},
   "outputs": [
    {
     "data": {
      "text/plain": [
       "(17,)"
      ]
     },
     "execution_count": 75,
     "metadata": {},
     "output_type": "execute_result"
    }
   ],
   "source": [
    "A.shape"
   ]
  },
  {
   "cell_type": "code",
   "execution_count": 76,
   "metadata": {},
   "outputs": [
    {
     "data": {
      "text/plain": [
       "24"
      ]
     },
     "execution_count": 76,
     "metadata": {},
     "output_type": "execute_result"
    }
   ],
   "source": [
    "A.max()"
   ]
  },
  {
   "cell_type": "code",
   "execution_count": 77,
   "metadata": {},
   "outputs": [
    {
     "data": {
      "text/plain": [
       "8"
      ]
     },
     "execution_count": 77,
     "metadata": {},
     "output_type": "execute_result"
    }
   ],
   "source": [
    "A.min()"
   ]
  },
  {
   "cell_type": "code",
   "execution_count": 78,
   "metadata": {},
   "outputs": [
    {
     "data": {
      "text/plain": [
       "16.0"
      ]
     },
     "execution_count": 78,
     "metadata": {},
     "output_type": "execute_result"
    }
   ],
   "source": [
    "A.mean()"
   ]
  },
  {
   "cell_type": "code",
   "execution_count": 79,
   "metadata": {},
   "outputs": [],
   "source": [
    "B = A "
   ]
  },
  {
   "cell_type": "code",
   "execution_count": 80,
   "metadata": {},
   "outputs": [
    {
     "data": {
      "text/plain": [
       "(17,)"
      ]
     },
     "execution_count": 80,
     "metadata": {},
     "output_type": "execute_result"
    }
   ],
   "source": [
    "B.shape"
   ]
  },
  {
   "cell_type": "code",
   "execution_count": 81,
   "metadata": {},
   "outputs": [
    {
     "data": {
      "text/plain": [
       "array([[ 8,  9, 10, 11, 12, 13, 14, 15, 16, 17, 18, 19, 20, 21, 22, 23,\n",
       "        24]])"
      ]
     },
     "execution_count": 81,
     "metadata": {},
     "output_type": "execute_result"
    }
   ],
   "source": [
    "A_2 = A.reshape( 1, -1 )\n",
    "A_2"
   ]
  },
  {
   "cell_type": "code",
   "execution_count": 82,
   "metadata": {},
   "outputs": [
    {
     "data": {
      "text/plain": [
       "(1, 17)"
      ]
     },
     "execution_count": 82,
     "metadata": {},
     "output_type": "execute_result"
    }
   ],
   "source": [
    "A_2.shape"
   ]
  },
  {
   "cell_type": "markdown",
   "metadata": {},
   "source": [
    "|Name| Definition|\n",
    "|---|---|\n",
    "|attribute|A variable stored in an instance or class.|\n",
    "|method|A function stored in an instance or class.|"
   ]
  },
  {
   "cell_type": "markdown",
   "metadata": {},
   "source": [
    "###  ```__init__()```\n",
    "\n",
    "In python classes, “__init__” method is reserved. It is automatically called when you create an object using a class and is used to initialize the variables of the class. It is equivalent to a constructor.\n",
    "\n",
    "- Like any other method, init method starts with the keyword **“def”**\n",
    "- **“self”** is the first parameter in this method just like any other method although in case of init, **“self”** refers to a newly created object unlike other methods where it refers to the current object or instance associated with that particular method.\n",
    "- Additional parameters can be added"
   ]
  },
  {
   "cell_type": "markdown",
   "metadata": {},
   "source": [
    "### ```self```\n",
    "self represents the instance of the class. By using the **“self”** keyword we build attributes and methods for the class in python. It binds the attributes with the given arguments."
   ]
  },
  {
   "cell_type": "code",
   "execution_count": 83,
   "metadata": {},
   "outputs": [],
   "source": [
    "def print_name(name):\n",
    "    print(name)"
   ]
  },
  {
   "cell_type": "code",
   "execution_count": 84,
   "metadata": {},
   "outputs": [
    {
     "name": "stdout",
     "output_type": "stream",
     "text": [
      "Alexander\n"
     ]
    }
   ],
   "source": [
    "print_name(name = \"Alexander\")"
   ]
  },
  {
   "cell_type": "code",
   "execution_count": 85,
   "metadata": {},
   "outputs": [],
   "source": [
    "class qlab_students:\n",
    "    '''Clase del QLAB'''\n",
    "    def __init__(self, name, age):\n",
    "        self.name_student = name\n",
    "        self.age_student = age\n",
    "\n",
    "    def print_name( self ):\n",
    "        print( f'I am { self.name_student }.' )\n",
    "        \n",
    "    def print_age( self ):\n",
    "        print( f'I am  { self.age_student } years old' ) "
   ]
  },
  {
   "cell_type": "code",
   "execution_count": 86,
   "metadata": {},
   "outputs": [],
   "source": [
    "student1 = qlab_students( name=\"Maria Alejandra Colan\", age=\"20\"  )"
   ]
  },
  {
   "cell_type": "code",
   "execution_count": 87,
   "metadata": {},
   "outputs": [
    {
     "data": {
      "text/plain": [
       "__main__.qlab_students"
      ]
     },
     "execution_count": 87,
     "metadata": {},
     "output_type": "execute_result"
    }
   ],
   "source": [
    "type(student1)"
   ]
  },
  {
   "cell_type": "code",
   "execution_count": 88,
   "metadata": {},
   "outputs": [
    {
     "name": "stdout",
     "output_type": "stream",
     "text": [
      "I am  20 years old\n"
     ]
    }
   ],
   "source": [
    "student1.print_age()"
   ]
  },
  {
   "cell_type": "code",
   "execution_count": 89,
   "metadata": {},
   "outputs": [
    {
     "name": "stdout",
     "output_type": "stream",
     "text": [
      "I am Maria Alejandra Colan.\n"
     ]
    }
   ],
   "source": [
    "student1.print_name()"
   ]
  },
  {
   "cell_type": "code",
   "execution_count": 90,
   "metadata": {},
   "outputs": [],
   "source": [
    "students = qlab_students( name=[\"Maria Alejandra Colan\", \"Carla Caceda\"], age=[\"20\",\"21\"]  )"
   ]
  },
  {
   "cell_type": "code",
   "execution_count": 91,
   "metadata": {},
   "outputs": [
    {
     "name": "stdout",
     "output_type": "stream",
     "text": [
      "I am  ['20', '21'] years old\n"
     ]
    }
   ],
   "source": [
    "students.print_age()"
   ]
  },
  {
   "cell_type": "code",
   "execution_count": 92,
   "metadata": {},
   "outputs": [],
   "source": [
    "class qlab_students_list:\n",
    "    '''Clase del QLAB'''\n",
    "    def __init__(self, name, age):\n",
    "        self.name_student = name\n",
    "        self.age_student = age\n",
    "\n",
    "    def print_name( self ):\n",
    "        for name in self.name_student:\n",
    "            print( f'I am { name }.' )\n",
    "        \n",
    "    def print_age( self ):\n",
    "        for age in self.age_student:\n",
    "            print( f'I am  { age } years old' ) "
   ]
  },
  {
   "cell_type": "code",
   "execution_count": 93,
   "metadata": {},
   "outputs": [],
   "source": [
    "students = qlab_students_list( name=[\"Maria Alejandra Colan\", \"Carla Caceda\"], age=[\"20\",\"21\"]  )"
   ]
  },
  {
   "cell_type": "code",
   "execution_count": 95,
   "metadata": {},
   "outputs": [
    {
     "name": "stdout",
     "output_type": "stream",
     "text": [
      "I am Maria Alejandra Colan.\n",
      "I am Carla Caceda.\n"
     ]
    }
   ],
   "source": [
    "students.print_name()"
   ]
  }
 ],
 "metadata": {
  "hide_input": false,
  "kernelspec": {
   "display_name": "base",
   "language": "python",
   "name": "python3"
  },
  "language_info": {
   "codemirror_mode": {
    "name": "ipython",
    "version": 3
   },
   "file_extension": ".py",
   "mimetype": "text/x-python",
   "name": "python",
   "nbconvert_exporter": "python",
   "pygments_lexer": "ipython3",
   "version": "3.11.7"
  }
 },
 "nbformat": 4,
 "nbformat_minor": 4
}
