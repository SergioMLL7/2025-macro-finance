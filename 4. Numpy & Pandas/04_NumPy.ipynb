{
 "cells": [
  {
   "cell_type": "markdown",
   "metadata": {},
   "source": [
    "# NumPy\n",
    "\n",
    "*   Instructor: Victor Fuentes Campos\n",
    "*   Curso: Fundamentos de Programación en Python para las CCSS y Gestión Pública\n",
    "*   Adapatado de las clases de Carla Solís y Alexander Quispe\n",
    "\n",
    "Empecemos con un [video sencillo](https://www.youtube.com/watch?v=Tkv45wgxlEU)"
   ]
  },
  {
   "cell_type": "markdown",
   "metadata": {},
   "source": [
    "> En adelante, empezamos a usar librarías de Python, que son como súperpoderes que catalizarán nuestras habilidades  de programación en Python. Estas funciona como plugins o extensinoes para hacer nuestro código más eficiente"
   ]
  },
  {
   "cell_type": "markdown",
   "metadata": {},
   "source": [
    "[NumPy](https://numpy.org/doc/stable/user/numpy-for-matlab-users.html) (Numerical Python) es la biblioteca central para la computación científica en Python. Proporciona un objeto array multidimensional de alto rendimiento y herramientas para trabajar con estos. Si ya estás familiarizado con MATLAB, es posible que encuentres útil este tutorial para comenzar con NumPy."
   ]
  },
  {
   "cell_type": "markdown",
   "metadata": {},
   "source": [
    "<img src=\"https://s3.amazonaws.com/dq-content/289/1.2-m289.gif\" width=\"1000\">"
   ]
  },
  {
   "cell_type": "markdown",
   "metadata": {},
   "source": [
    "No olviden instalar numpy: ```conda install numpy```"
   ]
  },
  {
   "cell_type": "code",
   "execution_count": null,
   "metadata": {},
   "outputs": [],
   "source": [
    "%pip install numpy #(mac/windows)"
   ]
  },
  {
   "cell_type": "code",
   "execution_count": 35,
   "metadata": {},
   "outputs": [
    {
     "name": "stdout",
     "output_type": "stream",
     "text": [
      "Requirement already satisfied: numpy in /Users/vfuentesc/miniconda3/lib/python3.11/site-packages (1.26.4)\n",
      "\n",
      "\u001b[1m[\u001b[0m\u001b[34;49mnotice\u001b[0m\u001b[1;39;49m]\u001b[0m\u001b[39;49m A new release of pip is available: \u001b[0m\u001b[31;49m24.2\u001b[0m\u001b[39;49m -> \u001b[0m\u001b[32;49m24.3.1\u001b[0m\n",
      "\u001b[1m[\u001b[0m\u001b[34;49mnotice\u001b[0m\u001b[1;39;49m]\u001b[0m\u001b[39;49m To update, run: \u001b[0m\u001b[32;49mpip install --upgrade pip\u001b[0m\n",
      "Note: you may need to restart the kernel to use updated packages.\n"
     ]
    }
   ],
   "source": [
    "# En el cmd (windows), terminal (mac) o ananconda prompt (anaconda)\n",
    "# conda install numpy (para la mayoría)\n",
    "# o\n",
    "%pip install numpy #(mac/windows)\n",
    "# o\n",
    "# brew install numpy (mac si usaron homebrew)\n",
    "import numpy as np"
   ]
  },
  {
   "cell_type": "code",
   "execution_count": null,
   "metadata": {},
   "outputs": [],
   "source": []
  },
  {
   "cell_type": "markdown",
   "metadata": {},
   "source": [
    "### Arrays\n",
    "Un array de NumPy es una cuadrícula de valores, todos del mismo tipo, y se indexa mediante tuples de enteros no negativos. El número de dimensiones es el rango del array; la forma (shape) de un array es un tuple de enteros que indica el tamaño del array a lo largo de cada dimensión."
   ]
  },
  {
   "cell_type": "code",
   "execution_count": 5,
   "metadata": {},
   "outputs": [
    {
     "data": {
      "text/plain": [
       "[1, 2, 3, 4, 5]"
      ]
     },
     "execution_count": 5,
     "metadata": {},
     "output_type": "execute_result"
    }
   ],
   "source": [
    "lst = [1, 2, 3, 4, 5]\n",
    "lst"
   ]
  },
  {
   "cell_type": "code",
   "execution_count": 2,
   "metadata": {},
   "outputs": [],
   "source": [
    "a = np.array( [1, 2, 3, 4, 5] )"
   ]
  },
  {
   "cell_type": "code",
   "execution_count": 3,
   "metadata": {},
   "outputs": [
    {
     "data": {
      "text/plain": [
       "array([1, 2, 3, 4, 5])"
      ]
     },
     "execution_count": 3,
     "metadata": {},
     "output_type": "execute_result"
    }
   ],
   "source": [
    "a   "
   ]
  },
  {
   "cell_type": "code",
   "execution_count": 6,
   "metadata": {},
   "outputs": [
    {
     "data": {
      "text/plain": [
       "numpy.ndarray"
      ]
     },
     "execution_count": 6,
     "metadata": {},
     "output_type": "execute_result"
    }
   ],
   "source": [
    "type(a)"
   ]
  },
  {
   "cell_type": "code",
   "execution_count": 7,
   "metadata": {},
   "outputs": [
    {
     "name": "stdout",
     "output_type": "stream",
     "text": [
      "[1 2 3 4 5]\n"
     ]
    }
   ],
   "source": [
    "# 1D array\n",
    "a = np.array( [1, 2, 3, 4, 5] )\n",
    "print(a)"
   ]
  },
  {
   "cell_type": "code",
   "execution_count": 8,
   "metadata": {},
   "outputs": [
    {
     "name": "stdout",
     "output_type": "stream",
     "text": [
      "[[1 2 3]\n",
      " [4 5 6]]\n"
     ]
    }
   ],
   "source": [
    "# 2D array\n",
    "M = np.array( [ [1, 2, 3], [4, 5, 6] ] )\n",
    "\n",
    "print(M)"
   ]
  },
  {
   "cell_type": "code",
   "execution_count": 9,
   "metadata": {},
   "outputs": [
    {
     "data": {
      "text/plain": [
       "array([[1, 2, 3, 4],\n",
       "       [4, 5, 6, 7]])"
      ]
     },
     "execution_count": 9,
     "metadata": {},
     "output_type": "execute_result"
    }
   ],
   "source": [
    "X = np.array( [ [1, 2, 3, 4], [4, 5, 6, 7] ] )\n",
    "X"
   ]
  },
  {
   "cell_type": "markdown",
   "metadata": {},
   "source": [
    "|Function|\tDescription|\n",
    "| --- |--- |\n",
    "|np.array(a) |\tCreate -dimensional np array from sequence a|\n",
    "|np.linspace(a,b,N) |\tCreate 1D np array with N equally spaced values <br> from a to b (inclusively)|\n",
    "|np.arange(a,b,step) |\tCreate 1D np array with values from a to b (exclusively) <br> incremented by step|\n",
    "|np.zeros(N)\t| Create 1D np array of zeros of length |\n",
    "|np.zeros((n,m)) |\tCreate 2D np array of zeros with  rows and  columns|\n",
    "|np.ones(N) |\tCreate 1D np array of ones of length |\n",
    "|np.ones((n,m))|\tCreate 2D np array of ones with  rows and  columns|\n",
    "|np.eye(N)\t| Create 2D np array with  rows and  columns  <br> with ones on the diagonal  (ie. the identity matrix of size )|\n",
    "|np.concatenate( )|Join a sequence of arrays along an existing axis|\n",
    "|np.hstack( )|Stack arrays in sequence horizontally(column wise)|\n",
    "|np.vstack( )|Stack arrays in sequence vertically(row wise)|\n",
    "|np.column_stack( )|Stack 1-D arrays as columns into a 2-D array|\n",
    "|np.random.normal() | Draw random samples from a normal (Gaussian) distribution. |\n",
    "|np.linalg.inv() | Compute the (multiplicative) inverse of a matrix. |\n",
    "|np.dot() / @  | Matrix Multiplication. |"
   ]
  },
  {
   "cell_type": "code",
   "execution_count": 10,
   "metadata": {},
   "outputs": [
    {
     "name": "stdout",
     "output_type": "stream",
     "text": [
      "[0.  0.1 0.2 0.3 0.4 0.5 0.6 0.7 0.8 0.9 1. ]\n"
     ]
    }
   ],
   "source": [
    "# Create a 1D NumPy array with 11 equally spaced values from 0 to 1:\n",
    "x = np.linspace( 0, 1, 11 )\n",
    "print(x)"
   ]
  },
  {
   "cell_type": "code",
   "execution_count": 11,
   "metadata": {},
   "outputs": [
    {
     "name": "stdout",
     "output_type": "stream",
     "text": [
      "[ 0  5 10 15]\n"
     ]
    }
   ],
   "source": [
    "# Create a 1D NumPy array with values from 0 to 20 (exclusively) incremented by 5:\n",
    "y = np.arange( 0, 20, 5 )\n",
    "print(y)"
   ]
  },
  {
   "cell_type": "code",
   "execution_count": null,
   "metadata": {},
   "outputs": [],
   "source": [
    "# Create a 1D NumPy array of zeros of length 5:\n",
    "z = np.zeros(10)\n",
    "print(z)"
   ]
  },
  {
   "cell_type": "code",
   "execution_count": 12,
   "metadata": {},
   "outputs": [
    {
     "name": "stdout",
     "output_type": "stream",
     "text": [
      "[[0. 0. 0. 0. 0. 0. 0. 0. 0. 0.]\n",
      " [0. 0. 0. 0. 0. 0. 0. 0. 0. 0.]\n",
      " [0. 0. 0. 0. 0. 0. 0. 0. 0. 0.]\n",
      " [0. 0. 0. 0. 0. 0. 0. 0. 0. 0.]\n",
      " [0. 0. 0. 0. 0. 0. 0. 0. 0. 0.]\n",
      " [0. 0. 0. 0. 0. 0. 0. 0. 0. 0.]\n",
      " [0. 0. 0. 0. 0. 0. 0. 0. 0. 0.]\n",
      " [0. 0. 0. 0. 0. 0. 0. 0. 0. 0.]\n",
      " [0. 0. 0. 0. 0. 0. 0. 0. 0. 0.]\n",
      " [0. 0. 0. 0. 0. 0. 0. 0. 0. 0.]]\n"
     ]
    }
   ],
   "source": [
    "# Create a 2D NumPy array of zeros of shape ( 5, 10 ) :\n",
    "M = np.zeros( (10, 10) )\n",
    "print(M)"
   ]
  },
  {
   "cell_type": "code",
   "execution_count": 13,
   "metadata": {},
   "outputs": [
    {
     "name": "stdout",
     "output_type": "stream",
     "text": [
      "[1. 1. 1. 1. 1. 1. 1.]\n"
     ]
    }
   ],
   "source": [
    "# Create a 1D NumPy array of ones of length 7:\n",
    "w = np.ones(7)\n",
    "print(w)"
   ]
  },
  {
   "cell_type": "code",
   "execution_count": 14,
   "metadata": {},
   "outputs": [
    {
     "name": "stdout",
     "output_type": "stream",
     "text": [
      "[[1. 1. 1. 1. 1.]\n",
      " [1. 1. 1. 1. 1.]\n",
      " [1. 1. 1. 1. 1.]\n",
      " [1. 1. 1. 1. 1.]\n",
      " [1. 1. 1. 1. 1.]]\n"
     ]
    }
   ],
   "source": [
    "# Create a 2D NumPy array of ones with 35ows and 25 columns:\n",
    "N = np.ones( (5, 5) )\n",
    "print(N)"
   ]
  },
  {
   "cell_type": "code",
   "execution_count": 15,
   "metadata": {},
   "outputs": [
    {
     "data": {
      "text/plain": [
       "array([[1., 0., 0., 0., 0.],\n",
       "       [0., 1., 0., 0., 0.],\n",
       "       [0., 0., 1., 0., 0.],\n",
       "       [0., 0., 0., 1., 0.],\n",
       "       [0., 0., 0., 0., 1.]])"
      ]
     },
     "execution_count": 15,
     "metadata": {},
     "output_type": "execute_result"
    }
   ],
   "source": [
    "np.eye(5)"
   ]
  },
  {
   "cell_type": "code",
   "execution_count": 16,
   "metadata": {},
   "outputs": [
    {
     "name": "stdout",
     "output_type": "stream",
     "text": [
      "[[1. 0. 0. 0. 0. 0. 0. 0. 0. 0.]\n",
      " [0. 1. 0. 0. 0. 0. 0. 0. 0. 0.]\n",
      " [0. 0. 1. 0. 0. 0. 0. 0. 0. 0.]\n",
      " [0. 0. 0. 1. 0. 0. 0. 0. 0. 0.]\n",
      " [0. 0. 0. 0. 1. 0. 0. 0. 0. 0.]\n",
      " [0. 0. 0. 0. 0. 1. 0. 0. 0. 0.]\n",
      " [0. 0. 0. 0. 0. 0. 1. 0. 0. 0.]\n",
      " [0. 0. 0. 0. 0. 0. 0. 1. 0. 0.]\n",
      " [0. 0. 0. 0. 0. 0. 0. 0. 1. 0.]\n",
      " [0. 0. 0. 0. 0. 0. 0. 0. 0. 1.]]\n"
     ]
    }
   ],
   "source": [
    "# Create the identity matrix of size 10:\n",
    "I = np.eye(10)\n",
    "print(I)"
   ]
  },
  {
   "cell_type": "code",
   "execution_count": 17,
   "metadata": {},
   "outputs": [
    {
     "data": {
      "text/plain": [
       "(10, 10)"
      ]
     },
     "execution_count": 17,
     "metadata": {},
     "output_type": "execute_result"
    }
   ],
   "source": [
    "# Shape\n",
    "I.shape"
   ]
  },
  {
   "cell_type": "code",
   "execution_count": 18,
   "metadata": {},
   "outputs": [
    {
     "data": {
      "text/plain": [
       "100"
      ]
     },
     "execution_count": 18,
     "metadata": {},
     "output_type": "execute_result"
    }
   ],
   "source": [
    "# Size\n",
    "I.size"
   ]
  },
  {
   "cell_type": "code",
   "execution_count": 19,
   "metadata": {},
   "outputs": [
    {
     "data": {
      "text/plain": [
       "array([[5, 6],\n",
       "       [7, 8]])"
      ]
     },
     "execution_count": 19,
     "metadata": {},
     "output_type": "execute_result"
    }
   ],
   "source": [
    "# Concateante\n",
    "g = np.array([[5,6],[7,8]])\n",
    "g"
   ]
  },
  {
   "cell_type": "code",
   "execution_count": 20,
   "metadata": {},
   "outputs": [
    {
     "data": {
      "text/plain": [
       "array([[1, 2]])"
      ]
     },
     "execution_count": 20,
     "metadata": {},
     "output_type": "execute_result"
    }
   ],
   "source": [
    "h = np.array([[1,2]])\n",
    "h"
   ]
  },
  {
   "cell_type": "code",
   "execution_count": 21,
   "metadata": {},
   "outputs": [
    {
     "data": {
      "text/plain": [
       "array([[5, 6],\n",
       "       [7, 8],\n",
       "       [1, 2]])"
      ]
     },
     "execution_count": 21,
     "metadata": {},
     "output_type": "execute_result"
    }
   ],
   "source": [
    "np.concatenate( (g, h) , axis = 0) # columnas"
   ]
  },
  {
   "cell_type": "code",
   "execution_count": 22,
   "metadata": {},
   "outputs": [
    {
     "name": "stdout",
     "output_type": "stream",
     "text": [
      "(3, 2)\n",
      "\n",
      "\n",
      "[[5 6]\n",
      " [7 8]\n",
      " [1 2]]\n"
     ]
    }
   ],
   "source": [
    "test = np.concatenate( (g, h) , axis = 0) # columnas\n",
    "print(test.shape)\n",
    "print(\"\\n\")\n",
    "print(test)"
   ]
  },
  {
   "cell_type": "code",
   "execution_count": 23,
   "metadata": {},
   "outputs": [
    {
     "data": {
      "text/plain": [
       "array([[1],\n",
       "       [2]])"
      ]
     },
     "execution_count": 23,
     "metadata": {},
     "output_type": "execute_result"
    }
   ],
   "source": [
    "h_2 = h.reshape(2, 1)\n",
    "h_2"
   ]
  },
  {
   "cell_type": "code",
   "execution_count": 24,
   "metadata": {},
   "outputs": [
    {
     "data": {
      "text/plain": [
       "array([[5, 6],\n",
       "       [7, 8]])"
      ]
     },
     "execution_count": 24,
     "metadata": {},
     "output_type": "execute_result"
    }
   ],
   "source": [
    "g"
   ]
  },
  {
   "cell_type": "code",
   "execution_count": null,
   "metadata": {},
   "outputs": [],
   "source": [
    "g_h = np.concatenate((g, h_2), axis = 1) # filas\n",
    "g_h"
   ]
  },
  {
   "cell_type": "code",
   "execution_count": null,
   "metadata": {},
   "outputs": [],
   "source": [
    "sett = np.hstack((g,h_2))\n",
    "sett"
   ]
  },
  {
   "cell_type": "code",
   "execution_count": null,
   "metadata": {},
   "outputs": [],
   "source": [
    "# vstack \n",
    "x = np.array([1,1,1])\n",
    "y = np.array([2,2,2])\n",
    "z = np.array([3,3,3])"
   ]
  },
  {
   "cell_type": "code",
   "execution_count": null,
   "metadata": {},
   "outputs": [],
   "source": [
    "z"
   ]
  },
  {
   "cell_type": "code",
   "execution_count": null,
   "metadata": {},
   "outputs": [],
   "source": [
    "vstacked = np.vstack( (x, y, z) )\n",
    "vstacked"
   ]
  },
  {
   "cell_type": "code",
   "execution_count": null,
   "metadata": {},
   "outputs": [],
   "source": [
    "vstacked.shape"
   ]
  },
  {
   "cell_type": "code",
   "execution_count": null,
   "metadata": {},
   "outputs": [],
   "source": [
    "vstacked = np.vstack((x,y,z))\n",
    "print(vstacked)"
   ]
  },
  {
   "cell_type": "code",
   "execution_count": null,
   "metadata": {},
   "outputs": [],
   "source": [
    "# hstack \n",
    "hstacked = np.hstack((x,y,z))\n",
    "print(hstacked)"
   ]
  },
  {
   "cell_type": "markdown",
   "metadata": {},
   "source": [
    "## Exercise"
   ]
  },
  {
   "cell_type": "code",
   "execution_count": null,
   "metadata": {},
   "outputs": [],
   "source": [
    "import numpy as np\n",
    "\n",
    "# Supongamos que tenemos datos de un programa social que busca mejorar la nutrición infantil en una comunidad\n",
    "# Tenemos información sobre la altura y el peso de los niños al inicio y al final del programa\n",
    "\n",
    "# Etapa 1: Crear los datos\n",
    "\n",
    "# `altura_inicial` y `peso_inicial` corresponde a la altura y peso (en cm y kg) de 10 niños al inicio del programa\n",
    "# # Altura entre 90cm y 150cm, peso entre 15kg y 45kg\n",
    "\n",
    "# Etapa 2: Calcular el IMC inicial\n",
    "\n",
    "# Calcula el índice de masa corporal (IMC) inicial de los niños. El IMC se calcula como peso / (altura/100)^2.\n",
    "# Almacena los resultados en `imc_inicial`.\n",
    "\n",
    "# Etapa 3: Simular cambios en altura y peso\n",
    "\n",
    "# Supongamos que el programa tiene un efecto positivo en la nutrición de los niños.\n",
    "# Aumenta la altura en un rango aleatorio entre 2 y 5 cm y el peso en un rango aleatorio entre 1 y 3 kg.\n",
    "\n",
    "# Etapa 4: Calcular y analizar el cambio en el IMC\n",
    "\n",
    "# Calcula el IMC final de los niños y almacénalo en `imc_final`.\n",
    "# Después, calcula la diferencia entre el IMC inicial y el IMC final para cada niño y almacénalo en `diferencia_imc`."
   ]
  },
  {
   "cell_type": "code",
   "execution_count": null,
   "metadata": {},
   "outputs": [],
   "source": [
    "# Etapa 1: Crear los datos\n",
    "\n",
    "# `altura_inicial` y `peso_inicial` corresponde a la altura y peso (en cm y kg) de 10 niños al inicio del programa\n",
    "# # Altura entre 90cm y 150cm, peso entre 15kg y 45kg"
   ]
  },
  {
   "cell_type": "code",
   "execution_count": null,
   "metadata": {},
   "outputs": [],
   "source": [
    "altura_inicial = np.random.randint(90, 150, size=100)\n",
    "peso_inicial = np.random.randint(15,45, size=100)"
   ]
  },
  {
   "cell_type": "code",
   "execution_count": 32,
   "metadata": {},
   "outputs": [
    {
     "name": "stdout",
     "output_type": "stream",
     "text": [
      "[18.93491124 17.34304544 31.43491124 16.62672991 17.22922703 11.2244898\n",
      " 18.06421537  8.32986256 24.62296091 17.35766713 20.40816327 28.29334541\n",
      " 16.43535427 35.45706371 19.80739021 23.04526749 19.21565202 35.80729167\n",
      " 13.07781299 18.10774106 21.03238988 28.11791383 27.100271   23.41311134\n",
      " 24.02990388 27.96566077 31.105665   23.44045369 29.36957858 10.59247228\n",
      " 13.8683432  20.57613169 13.43724805 15.49586777 25.13645504 17.75147929\n",
      " 22.54680914 37.67313019 14.41753172 15.94387755 39.75591716 32.68494898\n",
      " 30.51035503 10.41460028 25.26753864 24.00548697 33.93345273 15.68473679\n",
      " 37.75124987 29.296875   19.321338   19.97621879 15.64868698 16.56804734\n",
      " 19.65973535 14.8294612  39.88919668 48.14814815 13.20357964 27.75951494\n",
      " 28.42223544 10.20408163  9.78042936 15.86986709 20.64177144 27.54820937\n",
      " 20.64177144 23.04526749 25.83979328 31.23698459 36.68442659 23.44045369\n",
      " 15.52227904 33.28402367 15.500031   24.28026361 22.53944403 12.75510204\n",
      " 34.56790123 16.87885802 16.27809284 43.93571511 24.27754718 47.53282028\n",
      "  9.323466   13.40248237 24.02921953 24.1046832  24.1516725  19.44444444\n",
      " 13.43724805 11.89446367 21.89349112  9.45903338 34.60207612 15.08187302\n",
      " 19.95464853 32.23140496 11.10648341 17.52501555]\n"
     ]
    }
   ],
   "source": [
    "# Etapa 2: Calcular el IMC inicial\n",
    "\n",
    "# Calcula el índice de masa corporal (IMC) inicial de los niños. El IMC se calcula como peso / (altura/100)^2.\n",
    "# Almacena los resultados en `imc_inicial`.\n",
    "\n",
    "imc_inicial = peso_inicial / (altura_inicial/100)** 2\n",
    "print(imc_inicial)"
   ]
  },
  {
   "cell_type": "code",
   "execution_count": 39,
   "metadata": {},
   "outputs": [],
   "source": [
    "# Etapa 3: Simular cambios en altura y peso\n",
    "\n",
    "# Supongamos que el programa tiene un efecto positivo en la nutrición de los niños.\n",
    "# Aumenta la altura en un rango aleatorio entre 2 y 5 cm y el peso en un rango aleatorio entre 1 y 3 kg.\n",
    "\n",
    "altura_final = altura_inicial + np.random.randint(2,5,100)\n",
    "peso_final = peso_inicial + np.random.randint(1,3, 100)"
   ]
  },
  {
   "cell_type": "code",
   "execution_count": 41,
   "metadata": {},
   "outputs": [],
   "source": [
    "# Etapa 4: Calcular y analizar el cambio en el IMC\n",
    "\n",
    "# Calcula el IMC final de los niños y almacénalo en `imc_final`.\n",
    "# Después, calcula la diferencia entre el IMC inicial y el IMC final para cada niño y almacénalo en `diferencia_imc`.\n",
    "\n",
    "imc_final = peso_final / (altura_final/100)** 2\n",
    "diferencia_imc = imc_final - imc_inicial"
   ]
  },
  {
   "cell_type": "code",
   "execution_count": 42,
   "metadata": {},
   "outputs": [
    {
     "name": "stdout",
     "output_type": "stream",
     "text": [
      "[ 0.0044827   0.38548642 -0.86455575  0.0329952  -0.1364803   0.51202544\n",
      "  0.02612326  0.55902633  0.21449982 -0.46894504 -0.35828308 -0.66022818\n",
      "  0.23058143 -0.76672599  0.03260979  0.39764369  0.61905872 -1.80729167\n",
      "  0.42527343  0.21787622  0.52812524 -0.68307158 -0.01536297  0.14693578\n",
      " -0.02441691 -0.68560621 -0.53530951  0.2596325  -1.20957858  0.15732616\n",
      "  1.26159628 -0.64628475  0.87076444  0.09780566  0.13504281  0.06986177\n",
      " -0.77810165  0.58810905  1.00196942  0.40570628  0.29392264 -0.36731278\n",
      " -0.81343827  0.67722071 -0.1310836  -0.4684364  -1.61621978  0.95727504\n",
      " -1.93260533  0.29194247  1.04987069 -0.60772187  0.52253776  0.1394599\n",
      " -0.26875575  0.87984828 -1.11764275 -1.74706168 -0.0679069  -0.219087\n",
      "  0.37776456  0.70645199  0.07132519  0.08059266  0.35895902 -0.63548349\n",
      " -0.64177144 -0.78969066 -0.013347   -1.44075237  0.34949312  0.6664935\n",
      " -0.37338707 -1.56248732  0.47630036  0.09646769  0.22330311  0.62183018\n",
      " -1.74762056  0.47899523 -0.40822575 -2.48603927  0.67519384  0.21023527\n",
      "  0.85234948 -0.03647658  0.46057639 -0.8564133   0.2250588  -0.27596008\n",
      "  0.22040023  0.35043429  0.48942899  0.18966624 -1.67220784  0.37096223\n",
      " -0.23585566 -1.45270382 -0.14205203  0.03328349]\n"
     ]
    }
   ],
   "source": [
    "print(diferencia_imc)"
   ]
  },
  {
   "cell_type": "code",
   "execution_count": 43,
   "metadata": {},
   "outputs": [
    {
     "data": {
      "text/plain": [
       "56"
      ]
     },
     "execution_count": 43,
     "metadata": {},
     "output_type": "execute_result"
    }
   ],
   "source": [
    "np.sum(diferencia_imc>0)"
   ]
  },
  {
   "cell_type": "code",
   "execution_count": 44,
   "metadata": {},
   "outputs": [
    {
     "data": {
      "text/plain": [
       "44"
      ]
     },
     "execution_count": 44,
     "metadata": {},
     "output_type": "execute_result"
    }
   ],
   "source": [
    "np.sum(diferencia_imc<=0)"
   ]
  }
 ],
 "metadata": {
  "hide_input": false,
  "kernelspec": {
   "display_name": "base",
   "language": "python",
   "name": "python3"
  },
  "language_info": {
   "codemirror_mode": {
    "name": "ipython",
    "version": 3
   },
   "file_extension": ".py",
   "mimetype": "text/x-python",
   "name": "python",
   "nbconvert_exporter": "python",
   "pygments_lexer": "ipython3",
   "version": "3.11.7"
  }
 },
 "nbformat": 4,
 "nbformat_minor": 4
}
