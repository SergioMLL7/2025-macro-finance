{
 "cells": [
  {
   "cell_type": "code",
   "execution_count": 1,
   "id": "c643a796-a354-45f8-bf5f-9da4430f0b78",
   "metadata": {},
   "outputs": [],
   "source": [
    "## EJERCICIOS DE JUGUETE\n",
    "\n",
    "# Ejercicio 1: Importar la base de datos\n",
    "# Cargar la base de datos en un DataFrame de Pandas e imprimir las primeras 10 filas.\n",
    "\n",
    "# Ejercicio 2: Filtrar datos\n",
    "# Filtrar todas las filas donde los clientes tengan más de 30 años ('F33_EDAD') \n",
    "# y su saldo total ('SALDO_TOTAL') sea mayor al promedio de la columna 'SALDO_TOTAL'.\n",
    "\n",
    "# Ejercicio 3: Lidiar con valores nulos\n",
    "# Identificar las columnas con más del 20% de valores nulos.\n",
    "# Eliminar esas columnas del DataFrame.\n",
    "\n",
    "# Ejercicio 4: Lidiar con duplicados\n",
    "# Crear un DataFrame nuevo que contenga únicamente los duplicados basados en el campo 'DIDENTIDAD'.\n",
    "# Eliminar esos duplicados del DataFrame original.\n",
    "\n",
    "# Ejercicio 5: Agrupar datos\n",
    "# Agrupar por departamento ('F21_DEPARTAMENTO') y calcular el saldo promedio, la edad máxima \n",
    "# y el número total de clientes en cada grupo.\n",
    "\n",
    "# Ejercicio 6: Agregar usando múltiples operaciones\n",
    "# Agrupar por sexo ('F33_SEXO_3') y estado civil ('EST_CIVIL'), y calcular:\n",
    "# - La cantidad total de clientes\n",
    "# - La suma de los saldos ('SALDO_TOTAL')\n",
    "# - El saldo promedio\n",
    "\n",
    "# Ejercicio 7: Crear nuevas columnas\n",
    "# Crear una nueva columna llamada 'CATEGORIA_SALDO' que clasifique el saldo en:\n",
    "# - 'ALTO' si es mayor al percentil 75\n",
    "# - 'MEDIO' si está entre el percentil 25 y el percentil 75\n",
    "# - 'BAJO' si es menor al percentil 25\n",
    "\n",
    "# Ejercicio 8: Análisis cruzado\n",
    "# Hacer un análisis cruzado (pivot table) que muestre el saldo promedio \n",
    "# por sexo ('F33_SEXO_3') y estado civil ('EST_CIVIL').\n"
   ]
  },
  {
   "cell_type": "code",
   "execution_count": null,
   "id": "e17ec70f-27a4-445b-a736-006a0643e149",
   "metadata": {},
   "outputs": [],
   "source": []
  }
 ],
 "metadata": {
  "kernelspec": {
   "display_name": "Python 3 (ipykernel)",
   "language": "python",
   "name": "python3"
  },
  "language_info": {
   "codemirror_mode": {
    "name": "ipython",
    "version": 3
   },
   "file_extension": ".py",
   "mimetype": "text/x-python",
   "name": "python",
   "nbconvert_exporter": "python",
   "pygments_lexer": "ipython3",
   "version": "3.12.7"
  }
 },
 "nbformat": 4,
 "nbformat_minor": 5
}
